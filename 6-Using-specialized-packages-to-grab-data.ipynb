{
 "cells": [
  {
   "cell_type": "markdown",
   "metadata": {},
   "source": [
    "## 06 Using specialized packages to grab data\n",
    "Previously we saw how 3rd party packages vastly increase what Python can do quickly and fairly easily. Here we see that this applies to downloading data as well; someone has written a Python package to download Census data quite easily.\n",
    "\n",
    "First we need to install the packages, and then we'll use them to grab some data. One note, however, is that to use these packages you need to sign up for a [free] Census API key. You can do this here: https://api.census.gov/data/key_signup.html\n",
    "\n",
    "Documentation for these packages is here: \n",
    "https://pypi.python.org/pypi/census\n",
    "https://github.com/datamade/census\n",
    "\n",
    "We'll discuss APIs, such as ths Census API next..."
   ]
  },
  {
   "cell_type": "code",
   "execution_count": null,
   "metadata": {},
   "outputs": [],
   "source": [
    "#pip install Census"
   ]
  },
  {
   "cell_type": "code",
   "execution_count": 8,
   "metadata": {},
   "outputs": [
    {
     "name": "stdout",
     "output_type": "stream",
     "text": [
      "Collecting plotnine\n",
      "  Downloading plotnine-0.7.1-py3-none-any.whl (4.4 MB)\n",
      "Requirement already satisfied: patsy>=0.5.1 in c:\\users\\nms56\\appdata\\local\\esri\\conda\\envs\\gis\\lib\\site-packages (from plotnine) (0.5.1)\n",
      "Requirement already satisfied: statsmodels>=0.11.1 in c:\\users\\nms56\\appdata\\local\\esri\\conda\\envs\\gis\\lib\\site-packages (from plotnine) (0.12.0)\n",
      "Requirement already satisfied: descartes>=1.1.0 in c:\\users\\nms56\\appdata\\local\\esri\\conda\\envs\\gis\\lib\\site-packages (from plotnine) (1.1.0)\n",
      "Requirement already satisfied: pandas>=1.1.0 in c:\\users\\nms56\\appdata\\local\\esri\\conda\\envs\\gis\\lib\\site-packages (from plotnine) (1.1.3)\n",
      "Requirement already satisfied: matplotlib>=3.1.1 in c:\\users\\nms56\\appdata\\local\\esri\\conda\\envs\\gis\\lib\\site-packages (from plotnine) (3.3.2)\n",
      "Collecting mizani>=0.7.1\n",
      "  Downloading mizani-0.7.2-py3-none-any.whl (62 kB)\n",
      "Requirement already satisfied: scipy>=1.2.0 in c:\\users\\nms56\\appdata\\local\\esri\\conda\\envs\\gis\\lib\\site-packages (from plotnine) (1.5.2)\n",
      "Requirement already satisfied: numpy>=1.16.0 in c:\\users\\nms56\\appdata\\local\\esri\\conda\\envs\\gis\\lib\\site-packages (from plotnine) (1.19.2)\n",
      "Requirement already satisfied: six in c:\\users\\nms56\\appdata\\local\\esri\\conda\\envs\\gis\\lib\\site-packages (from patsy>=0.5.1->plotnine) (1.15.0)\n",
      "Requirement already satisfied: pytz>=2017.2 in c:\\users\\nms56\\appdata\\local\\esri\\conda\\envs\\gis\\lib\\site-packages (from pandas>=1.1.0->plotnine) (2020.1)\n",
      "Requirement already satisfied: python-dateutil>=2.7.3 in c:\\users\\nms56\\appdata\\local\\esri\\conda\\envs\\gis\\lib\\site-packages (from pandas>=1.1.0->plotnine) (2.8.1)\n",
      "Requirement already satisfied: pyparsing!=2.0.4,!=2.1.2,!=2.1.6,>=2.0.3 in c:\\users\\nms56\\appdata\\local\\esri\\conda\\envs\\gis\\lib\\site-packages (from matplotlib>=3.1.1->plotnine) (2.4.7)\n",
      "Requirement already satisfied: certifi>=2020.06.20 in c:\\users\\nms56\\appdata\\local\\esri\\conda\\envs\\gis\\lib\\site-packages (from matplotlib>=3.1.1->plotnine) (2020.6.20)\n",
      "Requirement already satisfied: cycler>=0.10 in c:\\users\\nms56\\appdata\\local\\esri\\conda\\envs\\gis\\lib\\site-packages (from matplotlib>=3.1.1->plotnine) (0.10.0)\n",
      "Requirement already satisfied: kiwisolver>=1.0.1 in c:\\users\\nms56\\appdata\\local\\esri\\conda\\envs\\gis\\lib\\site-packages (from matplotlib>=3.1.1->plotnine) (1.2.0)\n",
      "Requirement already satisfied: pillow>=6.2.0 in c:\\users\\nms56\\appdata\\local\\esri\\conda\\envs\\gis\\lib\\site-packages (from matplotlib>=3.1.1->plotnine) (8.0.1)\n",
      "Requirement already satisfied: palettable in c:\\users\\nms56\\appdata\\local\\esri\\conda\\envs\\gis\\lib\\site-packages (from mizani>=0.7.1->plotnine) (3.3.0)\n",
      "Installing collected packages: mizani, plotnine\n",
      "Successfully installed mizani-0.7.2 plotnine-0.7.1\n",
      "Note: you may need to restart the kernel to use updated packages.\n"
     ]
    }
   ],
   "source": [
    "#pip install plotnine"
   ]
  },
  {
   "cell_type": "code",
   "execution_count": 1,
   "metadata": {},
   "outputs": [],
   "source": [
    "#Import the 'census' package; install if needed\n",
    "from census import Census"
   ]
  },
  {
   "cell_type": "code",
   "execution_count": 9,
   "metadata": {},
   "outputs": [],
   "source": [
    "#And finally, import pandas\n",
    "import pandas as pd\n",
    "from plotnine import *"
   ]
  },
  {
   "cell_type": "code",
   "execution_count": 10,
   "metadata": {},
   "outputs": [],
   "source": [
    "# Add your census key here:\n",
    "key = None"
   ]
  },
  {
   "cell_type": "code",
   "execution_count": 11,
   "metadata": {},
   "outputs": [],
   "source": [
    "# Create the connection to the Census API\n",
    "c = Census(key, year=2015)"
   ]
  },
  {
   "cell_type": "code",
   "execution_count": 12,
   "metadata": {},
   "outputs": [
    {
     "data": {
      "text/plain": [
       "NAME            object\n",
       "B19001_001E    float64\n",
       "state           object\n",
       "county          object\n",
       "tract           object\n",
       "dtype: object"
      ]
     },
     "execution_count": 12,
     "metadata": {},
     "output_type": "execute_result"
    }
   ],
   "source": [
    "variables = ('NAME', 'B19001_001E')\n",
    "params = {'for':'tract:*', 'in':'state:24'} #FIPS 24 is Maryland\n",
    "response = c.acs5.get(variables, params)\n",
    "response = pd.DataFrame(response)\n",
    "response.dtypes"
   ]
  },
  {
   "cell_type": "code",
   "execution_count": 13,
   "metadata": {},
   "outputs": [
    {
     "data": {
      "image/png": "[encoded data removed]",
      "text/plain": [
       "<Figure size 640x480 with 1 Axes>"
      ]
     },
     "metadata": {},
     "output_type": "display_data"
    },
    {
     "data": {
      "text/plain": [
       "<ggplot: (120094404637)>"
      ]
     },
     "execution_count": 13,
     "metadata": {},
     "output_type": "execute_result"
    }
   ],
   "source": [
    "#Convert variable to numeric value\n",
    "response[variables[1]] = pd.to_numeric(response[variables[1]])\n",
    "thePlot = ggplot(data=response)\n",
    "thePlot + geom_boxplot(aes(x = 'county', y = variables[1]))"
   ]
  },
  {
   "cell_type": "code",
   "execution_count": null,
   "metadata": {},
   "outputs": [],
   "source": []
  }
 ],
 "metadata": {
  "kernelspec": {
   "display_name": "Python 3",
   "language": "python",
   "name": "python3"
  },
  "language_info": {
   "codemirror_mode": {
    "name": "ipython",
    "version": 3
   },
   "file_extension": ".py",
   "mimetype": "text/x-python",
   "name": "python",
   "nbconvert_exporter": "python",
   "pygments_lexer": "ipython3",
   "version": "3.6.12"
  }
 },
 "nbformat": 4,
 "nbformat_minor": 2
}
